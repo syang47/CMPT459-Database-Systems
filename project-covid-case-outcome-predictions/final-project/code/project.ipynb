{
  "cells": [
    {
      "cell_type": "markdown",
      "source": [
        "# Predicting the Outcomes of COVID-19 Cases\n",
        "\n"
      ],
      "metadata": {
        "id": "ronHk5UtmzFl"
      }
    },
    {
      "cell_type": "markdown",
      "source": [
        "Importing packages/libraries"
      ],
      "metadata": {
        "id": "c7QWuPCJ6edI"
      }
    },
    {
      "cell_type": "code",
      "execution_count": null,
      "metadata": {
        "id": "XSgwNDq4JGgD"
      },
      "outputs": [],
      "source": [
        "import pandas as pd\n",
        "import numpy as np\n",
        "import seaborn as sns\n",
        "import matplotlib.pyplot as plt\n",
        "import datetime\n",
        "\n",
        "import geopy\n",
        "import certifi\n",
        "import ssl\n",
        "import copy\n",
        "import csv\n",
        "from geopy.geocoders import Nominatim\n",
        "\n",
        "from urllib.parse import urlparse\n",
        "\n",
        "from imblearn.pipeline import make_pipeline, Pipeline\n",
        "from sklearn.preprocessing import StandardScaler\n",
        "from sklearn.model_selection import StratifiedKFold\n",
        "from sklearn.svm import SVC\n",
        "from sklearn.metrics import accuracy_score, f1_score, make_scorer\n",
        "from sklearn.model_selection import GridSearchCV\n",
        "from sklearn.ensemble import RandomForestClassifier\n",
        "from sklearn.model_selection import GridSearchCV\n",
        "from sklearn.neighbors import KNeighborsClassifier\n",
        "from collections import Counter\n",
        "from imblearn.over_sampling import SMOTE\n",
        "\n",
        "# cases_train = pd.read_csv(\"cases_2021_train_processed_2.csv\")\n",
        "# cases_test = pd.read_csv(\"cases_2021_test_processed_unlabelled_2.csv\")\n",
        "\n",
        "# Using the Cleaned Datafiles as input:\n",
        "cases_train = pd.read_csv(\"cleaned_train_df.csv\")\n",
        "cases_test = pd.read_csv(\"cleaned_test_df.csv\")"
      ]
    },
    {
      "cell_type": "markdown",
      "metadata": {
        "id": "WRRYeG5fHdjd"
      },
      "source": [
        "## Data Preprocessing --> Imputting Null Provinces, DON'T RUN THIS\n",
        "```\n",
        "*   \"cleaned_train_df.csv\"\n",
        "*   \"cleaned_test_df.csv\"\n",
        "```\n"
      ]
    },
    {
      "cell_type": "code",
      "execution_count": null,
      "metadata": {
        "colab": {
          "base_uri": "https://localhost:8080/"
        },
        "id": "-4waO74SClB-",
        "outputId": "6f330c0c-dcef-406e-ea6e-59eeb8e3dfc9"
      },
      "outputs": [
        {
          "name": "stdout",
          "output_type": "stream",
          "text": [
            "training data:\n",
            "province has  2  missing values\n",
            "test data:\n",
            "province has  1  missing values\n"
          ]
        }
      ],
      "source": [
        "#Missing values for trainning data\n",
        "print(\"training data:\")\n",
        "print(\"province has \", cases_train.province.isna().sum(), ' missing values')\n",
        "print(\"test data:\")\n",
        "print(\"province has \", cases_test.province.isna().sum(), ' missing values')"
      ]
    },
    {
      "cell_type": "code",
      "execution_count": null,
      "metadata": {
        "colab": {
          "base_uri": "https://localhost:8080/"
        },
        "id": "eF9Re2rPHQ9D",
        "outputId": "d0b7516d-93fe-4ab7-9483-c47e94ffd155"
      },
      "outputs": [
        {
          "output_type": "stream",
          "name": "stdout",
          "text": [
            "training data:\n",
            "province has  2  missing values\n",
            "test data:\n",
            "province has  1  missing values\n"
          ]
        }
      ],
      "source": [
        "import geopy\n",
        "from geopy.geocoders import Nominatim\n",
        "import certifi\n",
        "import ssl\n",
        "import copy\n",
        "from urllib.parse import urlparse\n",
        "\n",
        "ctx = ssl.create_default_context(cafile=certifi.where())\n",
        "geopy.geocoders.options.default_ssl_context = ctx\n",
        "geopy.geocoders.options.default_user_agent = \"cmpt459\"\n",
        "\n",
        "geolocator = Nominatim(timeout= None)\n",
        "\n",
        "def impute_missing_provinces(df):\n",
        "  cleaned_df = copy.deepcopy(df)\n",
        "  \n",
        "  for index, row in cleaned_df[cleaned_df.province.isna() == True].iterrows():\n",
        "    \n",
        "    lat = str(row.latitude)\n",
        "    lon = str(row.longitude)\n",
        "    \n",
        "    if 'nan' not in (lat or lon):\n",
        "      coordinate = lat + \",\" + lon\n",
        "      # check for nan provinces\n",
        "      if str(row.province) == \"nan\":\n",
        "        location = geolocator.reverse(coordinate, language=\"en\")\n",
        "        # modify province attribute when address is not none\n",
        "        if location is not None:\n",
        "          add_lst = location.address.split(', ')\n",
        "          if len(add_lst) < 2:\n",
        "            cleaned_df.province[index] = add_lst[0]\n",
        "          elif len(add_lst) > 2:\n",
        "            cleaned_df.province[index] = add_lst[-3]\n",
        "  return cleaned_df\n",
        "cleaned_test_df = impute_missing_provinces(cases_test)\n",
        "cleaned_train_df = impute_missing_provinces(cases_train)\n",
        "\n",
        "#Missing values for trainning data\n",
        "print(\"training data:\")\n",
        "print(\"province has \", cleaned_train_df.province.isna().sum(), ' missing values')\n",
        "print(\"test data:\")\n",
        "print(\"province has \", cleaned_test_df.province.isna().sum(), ' missing values')\n",
        "\n",
        "# cleaned_train_df=cleaned_train_df.dropna(subset=['province'])\n",
        "\n",
        "# store to csv\n",
        "cleaned_train_df.to_csv(\"cleaned_train_df.csv\", index=None)\n",
        "cleaned_test_df.to_csv(\"cleaned_test_df.csv\", index=None)"
      ]
    },
    {
      "cell_type": "markdown",
      "source": [
        "## 1.1 Feature Selection"
      ],
      "metadata": {
        "id": "1x9pZHpgg1tQ"
      }
    },
    {
      "cell_type": "markdown",
      "source": [
        "Added a feature that combines the province and country features."
      ],
      "metadata": {
        "id": "8h2C5_dYg9x1"
      }
    },
    {
      "cell_type": "code",
      "source": [
        "cases_train['province_and_country'] = cases_train['province'] + \", \"+ cases_train['country']\n",
        "cases_test['province_and_country'] = cases_test['province'] + \", \"+ cases_test['country']"
      ],
      "metadata": {
        "id": "QMmdVRVrg497"
      },
      "execution_count": null,
      "outputs": []
    },
    {
      "cell_type": "markdown",
      "metadata": {
        "id": "OcA7ig8Ou-js"
      },
      "source": [
        "## 1.2  Mapping the features\n",
        "\n"
      ]
    },
    {
      "cell_type": "code",
      "execution_count": null,
      "metadata": {
        "id": "C6Fbn6KVCwuO"
      },
      "outputs": [],
      "source": [
        "# Using the Cleaned Datafiles as input:\n",
        "cases_train = pd.read_csv(\"cleaned_train_df.csv\")\n",
        "cases_test = pd.read_csv(\"cleaned_test_df.csv\")"
      ]
    },
    {
      "cell_type": "code",
      "execution_count": null,
      "metadata": {
        "id": "R47GQ5wUMVrN"
      },
      "outputs": [],
      "source": [
        "# encoding categorical data\n",
        "def encode_categorical_data(df):\n",
        "  categorical_data = df.select_dtypes([object])\n",
        "  df['chronic_disease_binary'] = df['chronic_disease_binary'].astype(int)\n",
        "  for col in categorical_data:\n",
        "    s=0\n",
        "    if col == \"date_confirmation\":\n",
        "      df[col] = pd.to_datetime(df[col]).map(datetime.datetime.toordinal)\n",
        "    if df[col].dtype.name == \"object\":\n",
        "      df[col] = pd.Categorical(df[col])\n",
        "      df[col] = df[col].cat.codes\n",
        "  return df"
      ]
    },
    {
      "cell_type": "code",
      "execution_count": null,
      "metadata": {
        "id": "cdlWRU0Wuew-"
      },
      "outputs": [],
      "source": [
        "# mapping the trained data\n",
        "mapped_df = cases_train.copy()\n",
        "mapped_df = encode_categorical_data(mapped_df)\n",
        "\n",
        "# mapping the test data\n",
        "mapped_df1 = encode_categorical_data(cases_test)"
      ]
    },
    {
      "cell_type": "markdown",
      "metadata": {
        "id": "4T39eeGQwHUo"
      },
      "source": [
        "## 1.3 Balancing the classes in the training dataset\n",
        "\n",
        "> Oversampling is performed within 1.4 using SMOTE() with imblearn.pipeline:\n",
        "\n",
        "> GirdSearchCV splits the into train and validation already, using piping SMOTE() automatically balances the data when it splits everytime"
      ]
    },
    {
      "cell_type": "markdown",
      "metadata": {
        "id": "BVn1O2FKyAfA"
      },
      "source": [
        "## 1.4 Building models and hyperparameter tuning"
      ]
    },
    {
      "cell_type": "markdown",
      "source": [
        "definition for creating the submission file"
      ],
      "metadata": {
        "id": "j8yFXYZ8d7ts"
      }
    },
    {
      "cell_type": "code",
      "source": [
        "def create_submission_file(test_pred, file_name):\n",
        "  with open(file_name, 'w') as csvfile:\n",
        "    wr = csv.writer(csvfile, quoting=csv.QUOTE_ALL)\n",
        "    wr.writerow([\"Id\", \"Prediction\"])\n",
        "    for i, pred in enumerate(test_pred):\n",
        "      wr.writerow([str(i), str(pred)])"
      ],
      "metadata": {
        "id": "_2aEh1kkd5hr"
      },
      "execution_count": null,
      "outputs": []
    },
    {
      "cell_type": "markdown",
      "metadata": {
        "id": "--eC63czHiwe"
      },
      "source": [
        "### 1.4.1 SVM Model"
      ]
    },
    {
      "cell_type": "code",
      "source": [
        "pipe = Pipeline([('scaler', StandardScaler(copy=True)),\n",
        "    ('resample', SMOTE()),\n",
        "    ('model', SVC(random_state=42))])\n",
        "\n",
        "X_train = mapped_df.copy().drop(columns=['outcome_group'])\n",
        "y_train = mapped_df.copy()['outcome_group']\n",
        "\n",
        "scoring = {'accuracy': make_scorer(accuracy_score),\n",
        "           'f1': make_scorer(f1_score, average='macro'),\n",
        "           'f1_deceased': make_scorer(f1_score, labels=[0], average='macro'),\n",
        "           'f1_hospitalized': make_scorer(f1_score, labels=[1], average='macro'),\n",
        "           'f1_nonhospitalized': make_scorer(f1_score, labels=[2], average='macro')     \n",
        "           }\n",
        "\n",
        "kf = StratifiedKFold(n_splits=6, shuffle=True)\n",
        "param={\n",
        "    \"model__C\": np.arange(1,10),\n",
        "    \"model__gamma\": [0.01]\n",
        "}\n",
        "grid = GridSearchCV(estimator=pipe,\n",
        "                param_grid=param,\n",
        "                scoring=scoring,\n",
        "                refit='accuracy',\n",
        "                verbose = 2,\n",
        "                cv=kf, n_jobs=-1, return_train_score=True)\n",
        "grid.fit(X_train, y_train)\n",
        "print('best params: ', grid.best_params_)\n",
        "print('best mean_test_f1: ',grid.cv_results_['mean_test_f1'][grid.best_index_])\n",
        "print('best mean_test_f1_deceased: ',grid.cv_results_['mean_test_f1_deceased'][grid.best_index_])\n",
        "print('best mean_test_accuracy: ',grid.cv_results_['mean_test_accuracy'][grid.best_index_])\n",
        "print('best mean_test_f1_nonhospitalized: ',grid.cv_results_['mean_test_f1_nonhospitalized'][grid.best_index_])\n",
        "print('best mean_test_accuracy: ',grid.cv_results_['mean_test_accuracy'][grid.best_index_])\n",
        "\n",
        "print('best mean_train_f1: ',grid.cv_results_['mean_train_f1'][grid.best_index_])\n",
        "print('best mean_train_f1_deceased: ',grid.cv_results_['mean_train_f1_deceased'][grid.best_index_])\n",
        "print('best mean_train_accuracy: ',grid.cv_results_['mean_train_accuracy'][grid.best_index_])\n",
        "print('best mean_test_f1_nonhospitalized: ',grid.cv_results_['mean_test_f1_nonhospitalized'][grid.best_index_])\n",
        "print('best mean_test_accuracy: ',grid.cv_results_['mean_test_accuracy'][grid.best_index_])\n"
      ],
      "metadata": {
        "id": "qZ-snMxPmLiv"
      },
      "execution_count": null,
      "outputs": []
    },
    {
      "cell_type": "markdown",
      "metadata": {
        "id": "nnbGPV7uHmNd"
      },
      "source": [
        "### 1.4.2 Random Forest Classification Model"
      ]
    },
    {
      "cell_type": "markdown",
      "metadata": {
        "id": "pryoolCtQfDK"
      },
      "source": [
        "#### 1.4.2a Initialize Hyper-parameters and Build Random Forest Classifier"
      ]
    },
    {
      "cell_type": "code",
      "execution_count": null,
      "metadata": {
        "id": "Pah6zI8umEpR"
      },
      "outputs": [],
      "source": [
        "pipe = Pipeline([('resample', SMOTE()), ('model', RandomForestClassifier(random_state=42))])\n",
        "\n",
        "X_train = mapped_df.copy().drop(columns=['outcome_group'])\n",
        "y_train = mapped_df.copy()['outcome_group']\n",
        "\n",
        "scoring = {'accuracy': make_scorer(accuracy_score),\n",
        "           'f1': make_scorer(f1_score, average='macro'),\n",
        "           'f1_deceased': make_scorer(f1_score, labels=[0], average='macro'),\n",
        "           'f1_hospitalized': make_scorer(f1_score, labels=[1], average='macro'),\n",
        "           'f1_nonhospitalized': make_scorer(f1_score, labels=[2], average='macro')     \n",
        "           }\n",
        "\n",
        "param_grid_rf={\n",
        "    \"model__n_estimators\": [30,60,100,300,650,750,850],\n",
        "    \"model__max_depth\": np.arange(80,141,20),\n",
        "    \"model__min_samples_split\":[2],\n",
        "    \"model__min_samples_leaf\": [2,3],\n",
        "    \"model__ccp_alpha\": [0.00001],\n",
        "    \"model__max_features\": ['log2'],\n",
        "}\n",
        "kf = StratifiedKFold(n_splits=10, shuffle=True)\n",
        "\n",
        "grid_search_rf = GridSearchCV(estimator=pipe,\n",
        "                param_grid=param_grid_rf,\n",
        "                scoring=scoring,\n",
        "                refit='accuracy',\n",
        "                verbose = 0,\n",
        "                cv=kf, n_jobs=-1, return_train_score=True)"
      ]
    },
    {
      "cell_type": "markdown",
      "source": [
        "#### 1.4.2b Fit on Train data and Output Results\n",
        "\n",
        "\n",
        "> Best estimator's test and train scores, and a plot of validation and training curves are outputted\n",
        "\n"
      ],
      "metadata": {
        "id": "KhC2FDkPk6A4"
      }
    },
    {
      "cell_type": "markdown",
      "source": [
        "Fit and Print Scores"
      ],
      "metadata": {
        "id": "nm3a7jmA6Bv7"
      }
    },
    {
      "cell_type": "code",
      "source": [
        "grid_search_rf.fit(X_train, y_train)\n",
        "print('best params: ', grid_search_rf.best_params_)\n",
        "print('best mean_test_f1: ',grid_search_rf.cv_results_['mean_test_f1'][grid_search_rf.best_index_])\n",
        "print('best mean_test_f1_deceased: ',grid_search_rf.cv_results_['mean_test_f1_deceased'][grid_search_rf.best_index_])\n",
        "print('best mean_test_f1_hospitalized: ',grid_search_rf.cv_results_['mean_test_f1_hospitalized'][grid_search_rf.best_index_])\n",
        "print('best mean_test_f1_nonhospitalized: ',grid_search_rf.cv_results_['mean_test_f1_nonhospitalized'][grid_search_rf.best_index_])\n",
        "print('best mean_test_accuracy: ',grid_search_rf.cv_results_['mean_test_accuracy'][grid_search_rf.best_index_])\n",
        "\n",
        "print('best mean_train_f1: ',grid_search_rf.cv_results_['mean_train_f1'][grid_search_rf.best_index_])\n",
        "print('best mean_train_f1_deceased: ',grid_search_rf.cv_results_['mean_train_f1_deceased'][grid_search_rf.best_index_])\n",
        "print('best mean_train_f1_hospitalized: ',grid_search_rf.cv_results_['mean_train_f1_hospitalized'][grid_search_rf.best_index_])\n",
        "print('best mean_train_f1_nonhospitalized: ',grid_search_rf.cv_results_['mean_train_f1_nonhospitalized'][grid_search_rf.best_index_])\n",
        "print('best mean_train_accuracy: ',grid_search_rf.cv_results_['mean_train_accuracy'][grid_search_rf.best_index_])"
      ],
      "metadata": {
        "colab": {
          "base_uri": "https://localhost:8080/"
        },
        "id": "f4TBgzzz3Srb",
        "outputId": "114f6066-2b7b-46d0-b99f-d173e00f5f4f"
      },
      "execution_count": null,
      "outputs": [
        {
          "output_type": "stream",
          "name": "stdout",
          "text": [
            "best params:  {'model__ccp_alpha': 1e-05, 'model__max_depth': 100, 'model__max_features': 'log2', 'model__min_samples_leaf': 3, 'model__min_samples_split': 2, 'model__n_estimators': 650}\n",
            "best mean_test_f1:  0.7783571540034184\n",
            "best mean_test_f1_deceased:  0.4858000395170077\n",
            "best mean_test_f1_hospitalized:  0.9800315558575796\n",
            "best mean_test_f1_nonhospitalized:  0.8692398666356681\n",
            "best mean_test_accuracy:  0.9290023964404996\n",
            "best mean_train_f1:  0.9144996662189101\n",
            "best mean_train_f1_deceased:  0.793529972005747\n",
            "best mean_train_f1_hospitalized:  0.9893592726073044\n",
            "best mean_train_f1_nonhospitalized:  0.9606097540436791\n",
            "best mean_train_accuracy:  0.9721899418971651\n"
          ]
        }
      ]
    },
    {
      "cell_type": "markdown",
      "source": [
        "Plot Training and Validation Curves using n_estimators and Mean F1-score"
      ],
      "metadata": {
        "id": "nSS_YlcZ6FCE"
      }
    },
    {
      "cell_type": "code",
      "source": [
        "cv_results_rf = pd.DataFrame(grid_search_rf.cv_results_)\n",
        "plt.figure(figsize=(8, 8))\n",
        "sns.lineplot(x='param_model__n_estimators', y='mean_train_f1', data=cv_results_rf, ci=None)\n",
        "sns.lineplot(x='param_model__n_estimators', y='mean_test_f1', data=cv_results_rf, ci=None)\n",
        "plt.ylabel(\"mean F1-score\")\n",
        "plt.legend(labels=['training curve','validation curve'])\n",
        "plt.title(\"Training and Validation Curves\")\n",
        "plt.show()"
      ],
      "metadata": {
        "colab": {
          "base_uri": "https://localhost:8080/",
          "height": 514
        },
        "id": "5XJk0nMr2OYl",
        "outputId": "3ed53cef-47df-4cba-fffd-d0874b770aae"
      },
      "execution_count": null,
      "outputs": [
        {
          "output_type": "display_data",
          "data": {
            "text/plain": [
              "<Figure size 576x576 with 1 Axes>"
            ],
            "image/png": "[encoded data removed]"
          },
          "metadata": {
            "needs_background": "light"
          }
        }
      ]
    },
    {
      "cell_type": "code",
      "source": [
        "test_pred3 = grid_search_rf.best_estimator_.predict(mapped_df1)\n",
        "create_submission_file(test_pred3, 'submission3_rf.csv')"
      ],
      "metadata": {
        "id": "_wVqPe9iyKkv"
      },
      "execution_count": null,
      "outputs": []
    },
    {
      "cell_type": "markdown",
      "source": [
        "#### 1.4.3c Save Results to .txt and .csv files"
      ],
      "metadata": {
        "id": "_AV18UoemHiU"
      }
    },
    {
      "cell_type": "code",
      "source": [
        "mean_f1_rf = grid_search_rf.cv_results_['mean_test_f1']\n",
        "mean_f1_deceased_rf = grid_search_rf.cv_results_['mean_test_f1_deceased']\n",
        "mean_accuracy_rf = grid_search_rf.cv_results_['mean_test_accuracy']\n",
        "params_rf = grid_search_rf.cv_results_['params']\n",
        "score_data_rf = {\"Hyperparameters\": params_rf, \"Mean F1 Score\": mean_f1_rf, \n",
        "          \"Mean F1-Score on 'deceased'\": mean_f1_deceased_rf, \"Mean Accuracy\": mean_accuracy_rf}\n",
        "score_data_rf = pd.DataFrame(score_data_rf)\n",
        "score_data_rf.to_csv(r'RandomForest_tuning.txt',header=score_data_rf.columns, index=None, sep=',')\n",
        "score_data_rf.to_csv('RandomForest_tuning.csv')"
      ],
      "metadata": {
        "id": "MeTbwTQmdi_c"
      },
      "execution_count": null,
      "outputs": []
    },
    {
      "cell_type": "markdown",
      "metadata": {
        "id": "zNEUv82wQ8KZ"
      },
      "source": [
        "### 1.4.3 k-Nearest Neighbours Model"
      ]
    },
    {
      "cell_type": "markdown",
      "source": [
        "#### 1.4.3a Build Classifier and GridScan the Params"
      ],
      "metadata": {
        "id": "FMX-H9T7jayz"
      }
    },
    {
      "cell_type": "code",
      "source": [
        "sampled_df = trained_df.sample(frac=1)\n",
        "y_train = sampled_df['outcome_group']\n",
        "x_train = sampled_df.drop('outcome_group',axis=1)\n",
        "\n",
        "scoring = {'accuracy': make_scorer(accuracy_score),\n",
        "           'f1': make_scorer(f1_score, average='macro'),\n",
        "           'f1_deceased': make_scorer(f1_score, labels=[0], average='macro'),\n",
        "           'f1_hospitalized': make_scorer(f1_score, labels=[1], average='macro'),\n",
        "           'f1_nonhospitalized': make_scorer(f1_score, labels=[2], average='macro')     \n",
        "           }\n",
        "\n",
        "param_grid = {\n",
        "    \"model__p\": [1,2],\n",
        "    \"model__n_neighbors\": [1,2,3,4,5,6,7,8,9,10,11,12,13,14,15,16,17,18,19,20],\n",
        "    \"model__weights\": ['uniform','distance']},\n",
        "\n",
        "pipe = Pipeline([('resample', SMOTE()), ('model', KNeighborsClassifier())])\n",
        "\n",
        "grid_search = GridSearchCV(pipe, param_grid, scoring=scoring, refit='accuracy', verbose=0,\n",
        "                    cv=5, n_jobs=-1, return_train_score=True)\n",
        "\n",
        "grid_search.fit(x_train, y_train)\n",
        "print(grid_search.best_params_)\n",
        "grid_search.best_score_\n",
        "\n"
      ],
      "metadata": {
        "colab": {
          "base_uri": "https://localhost:8080/"
        },
        "id": "qQNLWebUjc0W",
        "outputId": "a79196b6-7081-4ac1-fad0-0f79b38e69db"
      },
      "execution_count": null,
      "outputs": [
        {
          "output_type": "stream",
          "name": "stdout",
          "text": [
            "{'model__n_neighbors': 9, 'model__p': 2, 'model__weights': 'distance'}\n"
          ]
        },
        {
          "output_type": "execute_result",
          "data": {
            "text/plain": [
              "0.9738168951791243"
            ]
          },
          "metadata": {},
          "execution_count": 43
        }
      ]
    },
    {
      "cell_type": "markdown",
      "source": [
        "#### 1.4.3b print the best mean accuracy, f1 score, f1 deceased and save results to txt file"
      ],
      "metadata": {
        "id": "D3L-Kw0hEKic"
      }
    },
    {
      "cell_type": "code",
      "source": [
        "print('best params: ', grid_search.best_params_)\n",
        "print('best mean_test_f1: ',grid_search.cv_results_['mean_test_f1'][grid_search.best_index_])\n",
        "print('best mean_test_f1_deceased: ',grid_search.cv_results_['mean_test_f1_deceased'][grid_search.best_index_])\n",
        "print('best mean_test_f1_hospitalized: ',grid_search.cv_results_['mean_test_f1_hospitalized'][grid_search.best_index_])\n",
        "print('best mean_test_f1_nonhospitalized: ',grid_search.cv_results_['mean_test_f1_nonhospitalized'][grid_search.best_index_])\n",
        "print('best mean_test_accuracy: ',grid_search.cv_results_['mean_test_accuracy'][grid_search.best_index_])\n",
        "\n",
        "print('best mean_train_f1: ',grid_search.cv_results_['mean_train_f1'][grid_search.best_index_])\n",
        "print('best mean_train_f1_deceased: ',grid_search.cv_results_['mean_train_f1_deceased'][grid_search.best_index_])\n",
        "print('best mean_train_f1_hospitalized: ',grid_search.cv_results_['mean_train_f1_hospitalized'][grid_search.best_index_])\n",
        "print('best mean_train_f1_nonhospitalized: ',grid_search.cv_results_['mean_train_f1_nonhospitalized'][grid_search.best_index_])\n",
        "print('best mean_train_accuracy: ',grid_search.cv_results_['mean_train_accuracy'][grid_search.best_index_])\n",
        "\n",
        "mean_f1_rf = grid_search.cv_results_['mean_test_f1']\n",
        "mean_f1_deceased_rf = grid_search.cv_results_['mean_test_f1_deceased']\n",
        "mean_accuracy_rf = grid_search.cv_results_['mean_test_accuracy']\n",
        "params_rf = grid_search.cv_results_['params']\n",
        "score_data_rf = {\"Hyperparameters\": params_rf, \"Mean F1 Score\": mean_f1_rf, \n",
        "          \"Mean F1-Score on 'deceased'\": mean_f1_deceased_rf, \"Mean Accuracy\": mean_accuracy_rf}\n",
        "score_data_rf = pd.DataFrame(score_data_rf)\n",
        "score_data_rf.to_csv(r'KNN.txt',header=score_data_rf.columns, index=None, sep=',')\n",
        "score_data_rf.to_csv('KNN_tuning.csv')"
      ],
      "metadata": {
        "colab": {
          "base_uri": "https://localhost:8080/"
        },
        "id": "U-dpEmUfEI_p",
        "outputId": "4de3ecf4-8f74-45f2-9bdc-ff24804040e9"
      },
      "execution_count": null,
      "outputs": [
        {
          "output_type": "stream",
          "name": "stdout",
          "text": [
            "best params:  {'model__n_neighbors': 9, 'model__p': 2, 'model__weights': 'distance'}\n",
            "best mean_test_f1:  0.9671964572939\n",
            "best mean_test_f1_deceased:  0.9713747634330556\n",
            "best mean_test_f1_hospitalized:  0.9890515497520868\n",
            "best mean_test_f1_nonhospitalized:  0.9411630586965577\n",
            "best mean_test_accuracy:  0.9738168951791243\n",
            "best mean_train_f1:  0.9981198253121562\n",
            "best mean_train_f1_deceased:  0.9976835191447538\n",
            "best mean_train_f1_hospitalized:  0.9982657150758122\n",
            "best mean_train_f1_nonhospitalized:  0.9984102417159028\n",
            "best mean_train_accuracy:  0.9980429013710748\n"
          ]
        }
      ]
    },
    {
      "cell_type": "markdown",
      "source": [
        "#### 1.4.3c Plot the accuracy"
      ],
      "metadata": {
        "id": "rwHrkZocjjLw"
      }
    },
    {
      "cell_type": "code",
      "source": [
        "colors = ['red','orange','green','blue']\n",
        "yaxes = [\"mean_test_accuracy\",\"mean_test_f1\",\"mean_test_f1_deceased\"]\n",
        "\n",
        "df = pd.DataFrame(grid_search.cv_results_)\n",
        "\n",
        "for yaxis in yaxes:\n",
        "    fig = plt.figure()\n",
        "    line = 0\n",
        "    for weight in param_grid[0][\"model__weights\"]:\n",
        "        for p in param_grid[0][\"model__p\"]:\n",
        "            #for i,yaxis in enumerate(yaxes):\n",
        "            #yaxis = \"mean_test_accuracy\"\n",
        "            #plt1 = fig.add_subplot(1,3,i+1)\n",
        "            x1 = param_grid[0][\"model__n_neighbors\"]\n",
        "            y1 = list(df[df[\"param_model__weights\"]==weight][df[\"param_model__p\"]==p][yaxis])\n",
        "            plt.plot(x1,y1,label=\"weights=\"+weight+\", p=\"+str(p),color=colors[line])\n",
        "            plt.title(\"K vs \"+yaxis)\n",
        "            plt.xlabel(\"K neighbors\")\n",
        "            plt.ylabel(yaxis)\n",
        "            plt.legend()\n",
        "            title = \"K vs \"+yaxis\n",
        "            line += 1\n",
        "        "
      ],
      "metadata": {
        "colab": {
          "base_uri": "https://localhost:8080/",
          "height": 886
        },
        "id": "d266NGn2jroi",
        "outputId": "297f87c3-5f2b-494a-e979-da2aa7b26599"
      },
      "execution_count": null,
      "outputs": [
        {
          "output_type": "stream",
          "name": "stderr",
          "text": [
            "/usr/local/lib/python3.7/dist-packages/ipykernel_launcher.py:15: UserWarning: Boolean Series key will be reindexed to match DataFrame index.\n",
            "  from ipykernel import kernelapp as app\n"
          ]
        },
        {
          "output_type": "display_data",
          "data": {
            "text/plain": [
              "<Figure size 432x288 with 1 Axes>"
            ],
            "image/png": "[encoded data removed]"
          },
          "metadata": {
            "needs_background": "light"
          }
        },
        {
          "output_type": "display_data",
          "data": {
            "text/plain": [
              "<Figure size 432x288 with 1 Axes>"
            ],
            "image/png": "[encoded data removed]"
          },
          "metadata": {
            "needs_background": "light"
          }
        },
        {
          "output_type": "display_data",
          "data": {
            "text/plain": [
              "<Figure size 432x288 with 1 Axes>"
            ],
            "image/png": "[encoded data removed]"
          },
          "metadata": {
            "needs_background": "light"
          }
        }
      ]
    },
    {
      "cell_type": "code",
      "source": [
        "best_knn_estimator=grid_search.best_estimator_\n",
        "y_test_pred = best_knn_estimator.predict(x_test)\n",
        "y_train_pred = best_knn_estimator.predict(x_train)\n",
        "print(f1_score(y_test, y_test_pred, average='macro'))\n",
        "print(f1_score(y_train, y_train_pred, average='macro'))"
      ],
      "metadata": {
        "colab": {
          "base_uri": "https://localhost:8080/"
        },
        "id": "Rp_1ueiP3qN_",
        "outputId": "9b3bd06e-af89-4e6e-b362-d2414bc2bc06"
      },
      "execution_count": null,
      "outputs": [
        {
          "output_type": "stream",
          "name": "stdout",
          "text": [
            "0.9217968233792829\n",
            "0.9976712704087863\n"
          ]
        }
      ]
    },
    {
      "cell_type": "markdown",
      "metadata": {
        "id": "L5t4RqSGIcLi"
      },
      "source": [
        "## 1.7 Prediction on Test Set"
      ]
    },
    {
      "cell_type": "code",
      "source": [
        "def create_submission_file(y_preds, file_name):\n",
        "  with open(file_name, 'w') as csvfile:\n",
        "    wr = csv.writer(csvfile, quoting=csv.QUOTE_ALL)\n",
        "    wr.writerow([\"Id\", \"Prediction\"])\n",
        "    for i, pred in enumerate(y_preds):\n",
        "      wr.writerow([str(i), str(pred)])"
      ],
      "metadata": {
        "id": "LhGSAhXL3p8K"
      },
      "execution_count": null,
      "outputs": []
    },
    {
      "cell_type": "markdown",
      "metadata": {
        "id": "nHBp9FLJIgA8"
      },
      "source": [
        "### 1.7.1 Random Forest Model's *Prediction*"
      ]
    },
    {
      "cell_type": "code",
      "execution_count": null,
      "metadata": {
        "id": "X02GytRuIeVq"
      },
      "outputs": [],
      "source": [
        "test_pred = grid_search.best_estimator_.predict(mapped_df1)\n",
        "create_submission_file(test_pred, 'submission_rf.csv')"
      ]
    },
    {
      "cell_type": "markdown",
      "metadata": {
        "id": "9kUbqWLgIoN3"
      },
      "source": [
        "### 1.7.2 SVM Model's *Prediction*"
      ]
    },
    {
      "cell_type": "code",
      "source": [
        "test_pred = grid.best_estimator_.predict(mapped_df1)\n",
        "create_submission_file(test_pred, 'submission_svc.csv')"
      ],
      "metadata": {
        "id": "2dfbtA1ontzS"
      },
      "execution_count": null,
      "outputs": []
    },
    {
      "cell_type": "markdown",
      "metadata": {
        "id": "kVpsungRIoac"
      },
      "source": [
        "### 1.7.3 kNN Model's *Prediction*"
      ]
    },
    {
      "cell_type": "code",
      "source": [
        "# temp = mapped_df1.copy().drop(columns=['province'])\n",
        "test_pred = best_knn_estimator.predict(mapped_df1)\n",
        "create_submission_file(test_pred, 'submission_knn.csv')"
      ],
      "metadata": {
        "id": "cY_ENDby3tmj"
      },
      "execution_count": null,
      "outputs": []
    }
  ],
  "metadata": {
    "colab": {
      "collapsed_sections": [
        "WRRYeG5fHdjd",
        "1x9pZHpgg1tQ",
        "OcA7ig8Ou-js"
      ],
      "name": "project.ipynb",
      "provenance": [],
      "machine_shape": "hm"
    },
    "kernelspec": {
      "display_name": "Python 3",
      "name": "python3"
    },
    "language_info": {
      "name": "python"
    },
    "accelerator": "TPU"
  },
  "nbformat": 4,
  "nbformat_minor": 0
}